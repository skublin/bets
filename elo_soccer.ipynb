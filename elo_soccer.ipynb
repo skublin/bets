{
 "cells": [
  {
   "cell_type": "code",
   "execution_count": 1,
   "metadata": {},
   "outputs": [],
   "source": [
    "import pandas as pd"
   ]
  },
  {
   "cell_type": "code",
   "execution_count": 2,
   "metadata": {},
   "outputs": [
    {
     "data": {
      "text/plain": [
       "<bound method NDFrame.head of     web-scraper-order   web-scraper-start-url  rank team  rating\n",
       "0        1669147892-2  http://eloratings.net/   1.0  NaN     NaN\n",
       "1        1669147892-3  http://eloratings.net/   2.0  NaN     NaN\n",
       "2        1669147892-4  http://eloratings.net/   3.0  NaN     NaN\n",
       "3        1669147892-5  http://eloratings.net/   4.0  NaN     NaN\n",
       "4        1669147892-6  http://eloratings.net/   5.0  NaN     NaN\n",
       "..                ...                     ...   ...  ...     ...\n",
       "712    1669147892-714  http://eloratings.net/   NaN  NaN   528.0\n",
       "713    1669147892-715  http://eloratings.net/   NaN  NaN   496.0\n",
       "714    1669147892-716  http://eloratings.net/   NaN  NaN   472.0\n",
       "715    1669147892-717  http://eloratings.net/   NaN  NaN   404.0\n",
       "716    1669147892-718  http://eloratings.net/   NaN  NaN   403.0\n",
       "\n",
       "[717 rows x 5 columns]>"
      ]
     },
     "execution_count": 2,
     "metadata": {},
     "output_type": "execute_result"
    }
   ],
   "source": [
    "raw_data = pd.read_csv(\"C:\\\\Users\\\\szymo\\\\Downloads\\\\elo.csv\")\n",
    "raw_data.head"
   ]
  },
  {
   "cell_type": "code",
   "execution_count": 3,
   "metadata": {},
   "outputs": [
    {
     "name": "stdout",
     "output_type": "stream",
     "text": [
      "239\n"
     ]
    }
   ],
   "source": [
    "size = len(raw_data[:][\"web-scraper-order\"]) // 3\n",
    "print(size)"
   ]
  },
  {
   "cell_type": "code",
   "execution_count": 4,
   "metadata": {},
   "outputs": [
    {
     "name": "stdout",
     "output_type": "stream",
     "text": [
      "0        1\n",
      "1        2\n",
      "2        3\n",
      "3        4\n",
      "4        5\n",
      "      ... \n",
      "234    235\n",
      "235    236\n",
      "236    237\n",
      "237    238\n",
      "238    239\n",
      "Name: rank, Length: 239, dtype: int32\n"
     ]
    }
   ],
   "source": [
    "rank = raw_data[:size][\"rank\"].astype(int)\n",
    "print(rank)"
   ]
  },
  {
   "cell_type": "code",
   "execution_count": 5,
   "metadata": {},
   "outputs": [
    {
     "name": "stdout",
     "output_type": "stream",
     "text": [
      "239               Brazil\n",
      "240            Argentina\n",
      "241          Netherlands\n",
      "242                Spain\n",
      "243              Belgium\n",
      "             ...        \n",
      "473                Tonga\n",
      "474                 Niue\n",
      "475        Eastern Samoa\n",
      "476    Northern Marianas\n",
      "477                Palau\n",
      "Name: team, Length: 239, dtype: object\n"
     ]
    }
   ],
   "source": [
    "team = raw_data[size:size*2][\"team\"]\n",
    "print(team)"
   ]
  },
  {
   "cell_type": "code",
   "execution_count": 6,
   "metadata": {},
   "outputs": [
    {
     "name": "stdout",
     "output_type": "stream",
     "text": [
      "478    2169\n",
      "479    2086\n",
      "480    2050\n",
      "481    2048\n",
      "482    2007\n",
      "       ... \n",
      "712     528\n",
      "713     496\n",
      "714     472\n",
      "715     404\n",
      "716     403\n",
      "Name: rating, Length: 239, dtype: int32\n"
     ]
    }
   ],
   "source": [
    "elo = raw_data[size*2:][\"rating\"].astype(int)\n",
    "print(elo)"
   ]
  },
  {
   "cell_type": "code",
   "execution_count": 7,
   "metadata": {},
   "outputs": [],
   "source": [
    "d = {\"Rank\": [r for r in rank], \"Team\": [t for t in team], \"Elo\": [e for e in elo]}\n",
    "df = pd.DataFrame(d)"
   ]
  },
  {
   "cell_type": "code",
   "execution_count": 8,
   "metadata": {},
   "outputs": [
    {
     "name": "stdout",
     "output_type": "stream",
     "text": [
      "     Rank               Team   Elo\n",
      "0       1             Brazil  2169\n",
      "1       2          Argentina  2086\n",
      "2       3        Netherlands  2050\n",
      "3       4              Spain  2048\n",
      "4       5            Belgium  2007\n",
      "..    ...                ...   ...\n",
      "234   235              Tonga   528\n",
      "235   236               Niue   496\n",
      "236   237      Eastern Samoa   472\n",
      "237   238  Northern Marianas   404\n",
      "238   239              Palau   403\n",
      "\n",
      "[239 rows x 3 columns]\n"
     ]
    }
   ],
   "source": [
    "print(df)"
   ]
  },
  {
   "cell_type": "code",
   "execution_count": 9,
   "metadata": {},
   "outputs": [
    {
     "name": "stdout",
     "output_type": "stream",
     "text": [
      "['Argentina', 'Australia', 'Belgium', 'Brazil', 'Cameroon', 'Canada', 'Costa Rica', 'Croatia', 'Denmark', 'Ecuador', 'England', 'France', 'Germany', 'Ghana', 'Iran', 'Japan', 'Mexico', 'Morocco', 'Netherlands', 'Poland', 'Portugal', 'Qatar', 'Saudi Arabia', 'Senegal', 'Serbia', 'South Korea', 'Spain', 'Switzerland', 'Tunisia', 'United States', 'Uruguay', 'Wales']\n"
     ]
    }
   ],
   "source": [
    "raw_wc_teams = pd.read_csv(\"C:\\\\Users\\\\szymo\\\\Downloads\\\\wiki_wc_teams.csv\")\n",
    "teams = [t for t in raw_wc_teams[\"team\"]]\n",
    "print(teams)"
   ]
  },
  {
   "cell_type": "code",
   "execution_count": 10,
   "metadata": {},
   "outputs": [],
   "source": [
    "a = df.loc[df['Team'] == 'Wales']['Elo'].values[0]"
   ]
  },
  {
   "cell_type": "code",
   "execution_count": 11,
   "metadata": {},
   "outputs": [
    {
     "name": "stdout",
     "output_type": "stream",
     "text": [
      "1791\n"
     ]
    }
   ],
   "source": [
    "print(a)"
   ]
  },
  {
   "cell_type": "code",
   "execution_count": 12,
   "metadata": {},
   "outputs": [],
   "source": [
    "dd = dict()\n",
    "for t in teams:\n",
    "    dd[t] = df.loc[df['Team'] == t]['Elo'].values[0]"
   ]
  },
  {
   "cell_type": "code",
   "execution_count": 13,
   "metadata": {},
   "outputs": [
    {
     "data": {
      "text/plain": [
       "2007"
      ]
     },
     "execution_count": 13,
     "metadata": {},
     "output_type": "execute_result"
    }
   ],
   "source": [
    "dd['Belgium']"
   ]
  },
  {
   "cell_type": "code",
   "execution_count": 14,
   "metadata": {},
   "outputs": [
    {
     "name": "stdout",
     "output_type": "stream",
     "text": [
      "{1: {'date': '20.11', 'A': 'Qatar', 'B': 'Ecuador', 'fare': (3.5, 3.1, 2.3), 'result': (0, 2)}}\n"
     ]
    }
   ],
   "source": [
    "# format: {id: {date: 'dd.mm', A: 'team_a', B: 'team_b', fare: (win_a, draw, win_b), result: (goals_a, goals_b)}}\n",
    "# empty: games[] = {'date': '', 'A': '', 'B': '', 'fare': (), 'result': ()}\n",
    "games = {1: {'date': '20.11', 'A': 'Qatar', 'B': 'Ecuador', 'fare': (3.5, 3.1, 2.3), 'result': (0, 2)}}\n",
    "print(games)"
   ]
  },
  {
   "cell_type": "code",
   "execution_count": 15,
   "metadata": {},
   "outputs": [],
   "source": [
    "games[2] = {'date': '21.11', 'A': 'England', 'B': 'Iran', 'fare': (1.4, 4.5, 10.0), 'result': (6, 2)}\n",
    "games[3] = {'date': '21.11', 'A': 'Senegal', 'B': 'Netherlands', 'fare': (5.6, 3.6, 1.7), 'result': (0, 2)}\n",
    "games[4] = {'date': '21.11', 'A': 'United States', 'B': 'Wales', 'fare': (2.5, 3.0, 3.1), 'result': (1, 1)}\n",
    "games[5] = {'date': '22.11', 'A': 'Argentina', 'B': 'Saudi Arabia', 'fare': (1.1, 8.0, 25.0), 'result': (1, 2)}\n",
    "games[6] = {'date': '22.11', 'A': 'Denmark', 'B': 'Tunisia', 'fare': (1.6, 3.8, 6.0), 'result': (0, 0)}\n",
    "games[7] = {'date': '22.11', 'A': 'Mexico', 'B': 'Poland', 'fare': (2.6, 3.1, 3.2), 'result': (0, 0)}\n",
    "games[8] = {'date': '22.11', 'A': 'France', 'B': 'Australia', 'fare': (1.2, 6.4, 14.0), 'result': (4, 1)}"
   ]
  },
  {
   "cell_type": "code",
   "execution_count": 16,
   "metadata": {},
   "outputs": [],
   "source": [
    "games[9] = {'date': '23.11', 'A': 'Morocco', 'B': 'Croatia', 'fare': (3.7, 3.3, 2.1), 'result': ()}\n",
    "games[10] = {'date': '23.11', 'A': 'Germany', 'B': 'Japan', 'fare': (1.45, 4.8, 7.0), 'result': ()}\n",
    "games[11] = {'date': '23.11', 'A': 'Spain', 'B': 'Costa Rica', 'fare': (1.15, 7.5, 18.0), 'result': ()}\n",
    "games[12] = {'date': '23.11', 'A': 'Belgium', 'B': 'Canada', 'fare': (1.55, 4.3, 6.0), 'result': ()}\n",
    "games[13] = {'date': '24.11', 'A': 'Switzerland', 'B': 'Cameroon', 'fare': (1.7, 3.5, 5.0), 'result': ()}\n",
    "games[14] = {'date': '24.11', 'A': 'Uruguay', 'B': 'South Korea', 'fare': (1.7, 3.5, 5.0), 'result': ()}\n",
    "games[15] = {'date': '24.11', 'A': 'Portugal', 'B': 'Ghana', 'fare': (1.4, 4.7, 8.5), 'result': ()}\n",
    "games[16] = {'date': '24.11', 'A': 'Brazil', 'B': 'Serbia', 'fare': (1.5, 4.5, 6.5), 'result': ()}\n",
    "\n",
    "# next matches are in second round (!)"
   ]
  },
  {
   "cell_type": "code",
   "execution_count": 17,
   "metadata": {},
   "outputs": [
    {
     "name": "stdout",
     "output_type": "stream",
     "text": [
      "20.11 : Qatar vs Ecuador\n",
      "Bet fare : 3.5 | 3.1 | 2.3\n",
      "Expected winner is : Ecuador (1871) with 78.89% chance.\n",
      "Result was : 0:2\n",
      "----------------------------------------------------------------\n"
     ]
    }
   ],
   "source": [
    "# calculation of Winning Expectancies (W_e) - http://eloratings.net/about,\n",
    "# where dr - difference in ratings (dd['team_a'] - dd['team_b']), then:\n",
    "# w_e = 1 / (10**(-dr/400) + 1)\n",
    "g = games[1]    # Current Game\n",
    "match_date = g['date']    # Date of the Game\n",
    "team_a, team_b = g['A'], g['B']    # Team A, Team B\n",
    "elo_a, elo_b = dd[team_a], dd[team_b]    # A's elo, B's elo\n",
    "dr = elo_a - elo_b    # dr - calculate elo Difference\n",
    "w_e = round(1 / (10**(-dr/400) + 1), 4)    # w_e - Winning Expectancies (rounded)\n",
    "winner_percent = round(max(w_e, 1 - w_e) * 100, 2)\n",
    "\n",
    "print(f\"{match_date} : {team_a} vs {team_b}\")    # show the Title\n",
    "print(f\"Bet fare : {g['fare'][0]} | {g['fare'][1]} | {g['fare'][2]}\")\n",
    "\n",
    "win_str = \"Expected winner is\"\n",
    "if elo_a > elo_b:\n",
    "    print(f\"{win_str} : {team_a} ({elo_a}) with {winner_percent}% chance.\")\n",
    "else:\n",
    "    print(f\"{win_str} : {team_b} ({elo_b}) with {winner_percent}% chance.\")\n",
    "    \n",
    "if len(g['result']) == 2:\n",
    "    print(f\"Result was : {g['result'][0]}:{g['result'][1]}\")\n",
    "    \n",
    "print(\"----------------------------------------------------------------\")"
   ]
  },
  {
   "cell_type": "code",
   "execution_count": 18,
   "metadata": {},
   "outputs": [],
   "source": [
    "def show_game(idx, bet):\n",
    "    TAX = 0.12\n",
    "    \n",
    "    g = games[idx]    # Current Game\n",
    "    match_date = g['date']    # Date of the Game\n",
    "    team_a, team_b = g['A'], g['B']    # Team A, Team B\n",
    "    elo_a, elo_b = dd[team_a], dd[team_b]    # A's elo, B's elo\n",
    "    dr = elo_a - elo_b    # dr - calculate elo Difference\n",
    "    w_e = round(1 / (10**(-dr/400) + 1), 4)    # w_e - Winning Expectancies (rounded)\n",
    "    winner_percent = round(max(w_e, 1 - w_e) * 100, 2)\n",
    "\n",
    "    print(f\"Game #{idx} - {match_date} : {team_a} ({elo_a}) vs {team_b} ({elo_b})\\n\")    # show the Title\n",
    "    print(f\"  -> Bet fare : {g['fare'][0]} | {g['fare'][1]} | {g['fare'][2]}\")\n",
    "\n",
    "    win_str = \"  -> Expected winner\"\n",
    "    if elo_a > elo_b:\n",
    "        print(f\"{win_str} : {team_a} ({elo_a}) with {winner_percent}% chance.\")\n",
    "    else:\n",
    "        print(f\"{win_str} : {team_b} ({elo_b}) with {winner_percent}% chance.\")\n",
    "\n",
    "    if len(g['result']) == 2:\n",
    "        print(f\"  -> Result : {team_a} {g['result'][0]} - {g['result'][1]} {team_b}\")\n",
    "        \n",
    "    a = g['fare'][0]\n",
    "    d = g['fare'][1]\n",
    "    b = g['fare'][2]\n",
    "    if min(a, d, b) >= 1.5:\n",
    "        reward = round(bet * min(a, d, b) * (1 - TAX), 2)\n",
    "        print(f\"  -> Potential netto win from {bet}zł bet : {reward} (+{round(reward - bet, 2)})\")\n",
    "    else:\n",
    "        print(\"Fare below 1.5!\")\n",
    "\n",
    "    print(\"\\n----------------------------------------------------------------\\n\")"
   ]
  },
  {
   "cell_type": "code",
   "execution_count": 19,
   "metadata": {},
   "outputs": [
    {
     "name": "stdout",
     "output_type": "stream",
     "text": [
      "\n",
      "----------------------------------------------------------------\n",
      "\n",
      "Game #1 - 20.11 : Qatar (1642) vs Ecuador (1871)\n",
      "\n",
      "  -> Bet fare : 3.5 | 3.1 | 2.3\n",
      "  -> Expected winner : Ecuador (1871) with 78.89% chance.\n",
      "  -> Result : Qatar 0 - 2 Ecuador\n",
      "  -> Potential netto win from 100zł bet : 202.4 (+102.4)\n",
      "\n",
      "----------------------------------------------------------------\n",
      "\n",
      "Game #2 - 21.11 : England (1957) vs Iran (1760)\n",
      "\n",
      "  -> Bet fare : 1.4 | 4.5 | 10.0\n",
      "  -> Expected winner : England (1957) with 75.66% chance.\n",
      "  -> Result : England 6 - 2 Iran\n",
      "Fare below 1.5!\n",
      "\n",
      "----------------------------------------------------------------\n",
      "\n",
      "Game #3 - 21.11 : Senegal (1677) vs Netherlands (2050)\n",
      "\n",
      "  -> Bet fare : 5.6 | 3.6 | 1.7\n",
      "  -> Expected winner : Netherlands (2050) with 89.54% chance.\n",
      "  -> Result : Senegal 0 - 2 Netherlands\n",
      "  -> Potential netto win from 100zł bet : 149.6 (+49.6)\n",
      "\n",
      "----------------------------------------------------------------\n",
      "\n",
      "Game #4 - 21.11 : United States (1797) vs Wales (1791)\n",
      "\n",
      "  -> Bet fare : 2.5 | 3.0 | 3.1\n",
      "  -> Expected winner : United States (1797) with 50.86% chance.\n",
      "  -> Result : United States 1 - 1 Wales\n",
      "  -> Potential netto win from 100zł bet : 220.0 (+120.0)\n",
      "\n",
      "----------------------------------------------------------------\n",
      "\n",
      "Game #5 - 22.11 : Argentina (2086) vs Saudi Arabia (1692)\n",
      "\n",
      "  -> Bet fare : 1.1 | 8.0 | 25.0\n",
      "  -> Expected winner : Argentina (2086) with 90.62% chance.\n",
      "  -> Result : Argentina 1 - 2 Saudi Arabia\n",
      "Fare below 1.5!\n",
      "\n",
      "----------------------------------------------------------------\n",
      "\n",
      "Game #6 - 22.11 : Denmark (1952) vs Tunisia (1726)\n",
      "\n",
      "  -> Bet fare : 1.6 | 3.8 | 6.0\n",
      "  -> Expected winner : Denmark (1952) with 78.6% chance.\n",
      "  -> Result : Denmark 0 - 0 Tunisia\n",
      "  -> Potential netto win from 100zł bet : 140.8 (+40.8)\n",
      "\n",
      "----------------------------------------------------------------\n",
      "\n",
      "Game #7 - 22.11 : Mexico (1809) vs Poland (1814)\n",
      "\n",
      "  -> Bet fare : 2.6 | 3.1 | 3.2\n",
      "  -> Expected winner : Poland (1814) with 50.72% chance.\n",
      "  -> Result : Mexico 0 - 0 Poland\n",
      "  -> Potential netto win from 100zł bet : 228.8 (+128.8)\n",
      "\n",
      "----------------------------------------------------------------\n",
      "\n",
      "Game #8 - 22.11 : France (2005) vs Australia (1719)\n",
      "\n",
      "  -> Bet fare : 1.2 | 6.4 | 14.0\n",
      "  -> Expected winner : France (2005) with 83.84% chance.\n",
      "  -> Result : France 4 - 1 Australia\n",
      "Fare below 1.5!\n",
      "\n",
      "----------------------------------------------------------------\n",
      "\n",
      "Game #9 - 23.11 : Morocco (1766) vs Croatia (1927)\n",
      "\n",
      "  -> Bet fare : 3.7 | 3.3 | 2.1\n",
      "  -> Expected winner : Croatia (1927) with 71.64% chance.\n",
      "  -> Potential netto win from 100zł bet : 184.8 (+84.8)\n",
      "\n",
      "----------------------------------------------------------------\n",
      "\n",
      "Game #10 - 23.11 : Germany (1963) vs Japan (1787)\n",
      "\n",
      "  -> Bet fare : 1.45 | 4.8 | 7.0\n",
      "  -> Expected winner : Germany (1963) with 73.36% chance.\n",
      "Fare below 1.5!\n",
      "\n",
      "----------------------------------------------------------------\n",
      "\n",
      "Game #11 - 23.11 : Spain (2048) vs Costa Rica (1743)\n",
      "\n",
      "  -> Bet fare : 1.15 | 7.5 | 18.0\n",
      "  -> Expected winner : Spain (2048) with 85.27% chance.\n",
      "Fare below 1.5!\n",
      "\n",
      "----------------------------------------------------------------\n",
      "\n",
      "Game #12 - 23.11 : Belgium (2007) vs Canada (1776)\n",
      "\n",
      "  -> Bet fare : 1.55 | 4.3 | 6.0\n",
      "  -> Expected winner : Belgium (2007) with 79.08% chance.\n",
      "  -> Potential netto win from 100zł bet : 136.4 (+36.4)\n",
      "\n",
      "----------------------------------------------------------------\n",
      "\n",
      "Game #13 - 24.11 : Switzerland (1902) vs Cameroon (1610)\n",
      "\n",
      "  -> Bet fare : 1.7 | 3.5 | 5.0\n",
      "  -> Expected winner : Switzerland (1902) with 84.3% chance.\n",
      "  -> Potential netto win from 100zł bet : 149.6 (+49.6)\n",
      "\n",
      "----------------------------------------------------------------\n",
      "\n",
      "Game #14 - 24.11 : Uruguay (1936) vs South Korea (1786)\n",
      "\n",
      "  -> Bet fare : 1.7 | 3.5 | 5.0\n",
      "  -> Expected winner : Uruguay (1936) with 70.34% chance.\n",
      "  -> Potential netto win from 100zł bet : 149.6 (+49.6)\n",
      "\n",
      "----------------------------------------------------------------\n",
      "\n",
      "Game #15 - 24.11 : Portugal (2006) vs Ghana (1567)\n",
      "\n",
      "  -> Bet fare : 1.4 | 4.7 | 8.5\n",
      "  -> Expected winner : Portugal (2006) with 92.6% chance.\n",
      "Fare below 1.5!\n",
      "\n",
      "----------------------------------------------------------------\n",
      "\n",
      "Game #16 - 24.11 : Brazil (2169) vs Serbia (1898)\n",
      "\n",
      "  -> Bet fare : 1.5 | 4.5 | 6.5\n",
      "  -> Expected winner : Brazil (2169) with 82.64% chance.\n",
      "  -> Potential netto win from 100zł bet : 132.0 (+32.0)\n",
      "\n",
      "----------------------------------------------------------------\n",
      "\n"
     ]
    }
   ],
   "source": [
    "print(\"\\n----------------------------------------------------------------\\n\")\n",
    "\n",
    "BET = 100\n",
    "\n",
    "for idx in games:\n",
    "    show_game(idx, BET)"
   ]
  },
  {
   "cell_type": "code",
   "execution_count": 194,
   "metadata": {},
   "outputs": [],
   "source": [
    "# DODAĆ WARUNEK, ŻEBY TEŻ WYBIERAĆ OBSTAWIANIE REMISU (!)"
   ]
  },
  {
   "cell_type": "code",
   "execution_count": null,
   "metadata": {},
   "outputs": [],
   "source": []
  }
 ],
 "metadata": {
  "kernelspec": {
   "display_name": "Python 3",
   "language": "python",
   "name": "python3"
  },
  "language_info": {
   "codemirror_mode": {
    "name": "ipython",
    "version": 3
   },
   "file_extension": ".py",
   "mimetype": "text/x-python",
   "name": "python",
   "nbconvert_exporter": "python",
   "pygments_lexer": "ipython3",
   "version": "3.8.5"
  }
 },
 "nbformat": 4,
 "nbformat_minor": 4
}
